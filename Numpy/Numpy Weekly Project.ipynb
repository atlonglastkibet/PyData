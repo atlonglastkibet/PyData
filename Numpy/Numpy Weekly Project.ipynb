{
 "cells": [
  {
   "cell_type": "markdown",
   "metadata": {},
   "source": [
    "# Numpy Exercise 5\n",
    "\n",
    "### All of the questions in this exercise are attributed to rougier/numpy-100"
   ]
  },
  {
   "cell_type": "markdown",
   "metadata": {},
   "source": [
    "#### 61. Find the nearest value from a given value in an array (★★☆)"
   ]
  },
  {
   "cell_type": "code",
   "execution_count": 1,
   "metadata": {},
   "outputs": [
    {
     "name": "stdout",
     "output_type": "stream",
     "text": [
      "5\n"
     ]
    }
   ],
   "source": [
    "import numpy as np\n",
    "def find_nearest(array, value):\n",
    "    array = np.asarray(array)\n",
    "    idx = (np.abs(array - value)).argmin()\n",
    "    return array[idx]\n",
    "\n",
    "# Example usage\n",
    "arr = np.array([1, 3, 5, 7, 9])\n",
    "value = 6\n",
    "nearest_value = find_nearest(arr, value)\n",
    "print(nearest_value)  # Output: 5\n"
   ]
  },
  {
   "cell_type": "markdown",
   "metadata": {},
   "source": [
    "#### 62. Considering two arrays with shape (1,3) and (3,1), how to compute their sum using an iterator? (★★☆)"
   ]
  },
  {
   "cell_type": "code",
   "execution_count": 5,
   "metadata": {},
   "outputs": [
    {
     "name": "stdout",
     "output_type": "stream",
     "text": [
      "[[5 6 7]\n",
      " [6 7 8]\n",
      " [7 8 9]]\n"
     ]
    }
   ],
   "source": [
    "A = np.array([[1, 2, 3]])\n",
    "B = np.array([[4], [5], [6]])\n",
    "\n",
    "# Using np.nditer to iterate and compute the sum\n",
    "it = np.nditer([A, B, None])\n",
    "for x, y, z in it:\n",
    "    z[...] = x + y\n",
    "\n",
    "result = it.operands[2]\n",
    "print(result)  "
   ]
  },
  {
   "cell_type": "markdown",
   "metadata": {},
   "source": [
    "#### 63. Create an array class that has a name attribute (★★☆)"
   ]
  },
  {
   "cell_type": "code",
   "execution_count": null,
   "metadata": {},
   "outputs": [
    {
     "name": "stdout",
     "output_type": "stream",
     "text": [
      "[1 2 3]\n"
     ]
    }
   ],
   "source": [
    "class NamedArray(np.ndarray):\n",
    "    def __new__(cls, input_array, name):\n",
    "        obj = np.asarray(input_array).view(cls)\n",
    "        obj.name = name\n",
    "        return obj\n",
    "    def __repr__(self):\n",
    "        return f\"NamedArray(name={self.name}, data={super().__repr__()})\"\n",
    "\n",
    "\n",
    "arr = NamedArray(np.array([1, 2, 3]), name=\"MyArray\")\n",
    "print(arr)  # Output: NamedArray(name=MyArray, data=[1 2 3])\n"
   ]
  },
  {
   "cell_type": "markdown",
   "metadata": {},
   "source": [
    "#### 64. Consider a given vector, how to add 1 to each element indexed by a second vector (be careful with repeated indices)? (★★★)"
   ]
  },
  {
   "cell_type": "code",
   "execution_count": 13,
   "metadata": {},
   "outputs": [
    {
     "name": "stdout",
     "output_type": "stream",
     "text": [
      "[0 4 0 0 0]\n"
     ]
    }
   ],
   "source": [
    "def add_to_indices(vector, indices):\n",
    "    np.add.at(vector, indices,  1)\n",
    "    return vector\n",
    "\n",
    "# Example usage\n",
    "vec = np.array([0, 0, 0, 0, 0])\n",
    "indices = np.array([1, 1, 1, 1])\n",
    "result = add_to_indices(vec, indices)\n",
    "print(result)"
   ]
  },
  {
   "cell_type": "markdown",
   "metadata": {},
   "source": [
    "#### 65. How to accumulate elements of a vector (X) to an array (F) based on an index list (I)? (★★★)"
   ]
  },
  {
   "cell_type": "code",
   "execution_count": 14,
   "metadata": {},
   "outputs": [
    {
     "name": "stdout",
     "output_type": "stream",
     "text": [
      "[4. 2. 4.]\n"
     ]
    }
   ],
   "source": [
    "def accumulate_elements(X, I, F):\n",
    "    np.add.at(F, I, X)\n",
    "    return F\n",
    "\n",
    "# Example usage\n",
    "X = np.array([1, 2, 3, 4])\n",
    "I = np.array([0, 1, 0, 2])\n",
    "F = np.zeros(3)\n",
    "result = accumulate_elements(X, I, F)\n",
    "print(result)  # Output: [4. 2. 3.]\n"
   ]
  },
  {
   "cell_type": "markdown",
   "metadata": {},
   "source": [
    "#### 66. Considering a (w,h,3) image of (dtype=ubyte), compute the number of unique colors (★★☆)"
   ]
  },
  {
   "cell_type": "code",
   "execution_count": 15,
   "metadata": {},
   "outputs": [
    {
     "name": "stdout",
     "output_type": "stream",
     "text": [
      "9997\n"
     ]
    }
   ],
   "source": [
    "def unique_colors(image):\n",
    "    # Reshape the image to a 2D array of pixels\n",
    "    pixels = image.reshape(-1, image.shape[2])\n",
    "    unique_colors = np.unique(pixels, axis=0)\n",
    "    return unique_colors.shape[0]\n",
    "\n",
    "# Example usage\n",
    "image = np.random.randint(0, 256, (100, 100, 3), dtype=np.uint8)\n",
    "num_colors = unique_colors(image)\n",
    "print(num_colors)  # Output: (depends on the random image)\n"
   ]
  },
  {
   "cell_type": "markdown",
   "metadata": {},
   "source": [
    "#### 67. Considering a four dimensions array, how to get sum over the last two axis at once? (★★★)"
   ]
  },
  {
   "cell_type": "code",
   "execution_count": 16,
   "metadata": {},
   "outputs": [
    {
     "name": "stdout",
     "output_type": "stream",
     "text": [
      "(4, 3)\n"
     ]
    }
   ],
   "source": [
    "def sum_last_two_axes(array):\n",
    "    return np.sum(array, axis=(-2, -1))\n",
    "\n",
    "# Example usage\n",
    "array = np.random.rand(4, 3, 2, 5)\n",
    "result = sum_last_two_axes(array)\n",
    "print(result.shape)  # Output: (4, 3)\n"
   ]
  },
  {
   "cell_type": "markdown",
   "metadata": {},
   "source": [
    "#### 68. Considering a one-dimensional vector D, how to compute means of subsets of D using a vector S of same size describing subset  indices? (★★★)"
   ]
  },
  {
   "cell_type": "code",
   "execution_count": 29,
   "metadata": {},
   "outputs": [
    {
     "name": "stdout",
     "output_type": "stream",
     "text": [
      "[1.5 3.5 5.5]\n"
     ]
    }
   ],
   "source": [
    "def compute_means(D, S):\n",
    "    unique_indices = np.unique(S)\n",
    "    means = np.array([D[S == idx].mean() for idx in unique_indices])\n",
    "    return means\n",
    "\n",
    "# Example usage\n",
    "D = np.array([1, 2, 3, 4, 5, 6])\n",
    "S = np.array([0, 0, 1, 1, 2, 2])\n",
    "result = compute_means(D, S)\n",
    "print(result)  # Output: [1.5 3.5 5.5]\n"
   ]
  },
  {
   "cell_type": "markdown",
   "metadata": {},
   "source": [
    "#### 69. How to get the diagonal of a dot product? (★★★)"
   ]
  },
  {
   "cell_type": "code",
   "execution_count": 28,
   "metadata": {},
   "outputs": [
    {
     "name": "stdout",
     "output_type": "stream",
     "text": [
      "[19 50]\n"
     ]
    }
   ],
   "source": [
    "def diagonal_dot(A, B):\n",
    "    return np.einsum('ij,ji->i', A, B)\n",
    "\n",
    "# Example usage\n",
    "A = np.array([[1, 2], [3, 4]])\n",
    "B = np.array([[5, 6], [7, 8]])\n",
    "result = diagonal_dot(A, B)\n",
    "print(result)  # Output: [19 43]\n"
   ]
  },
  {
   "cell_type": "markdown",
   "metadata": {},
   "source": [
    "#### 70. Consider the vector [1, 2, 3, 4, 5], how to build a new vector with 3 consecutive zeros interleaved between each value? (★★★)"
   ]
  },
  {
   "cell_type": "code",
   "execution_count": 6,
   "metadata": {},
   "outputs": [
    {
     "name": "stdout",
     "output_type": "stream",
     "text": [
      "[1 0 0 0 2 0 0 0 3 0 0 0 4 0 0 0 5]\n"
     ]
    }
   ],
   "source": [
    "vector = np.array([1, 2, 3, 4, 5])\n",
    "\n",
    "\n",
    "new_length = len(vector) + (len(vector) - 1) * 3 \n",
    "result = np.zeros(new_length, dtype=vector.dtype)\n",
    "\n",
    "result[::4] = vector  \n",
    "\n",
    "print(result)\n"
   ]
  },
  {
   "cell_type": "markdown",
   "metadata": {},
   "source": [
    "#### 71. Consider an array of dimension (5,5,3), how to mulitply it by an array with dimensions (5,5)? (★★★)"
   ]
  },
  {
   "cell_type": "code",
   "execution_count": 73,
   "metadata": {},
   "outputs": [
    {
     "name": "stdout",
     "output_type": "stream",
     "text": [
      "(5, 5, 3)\n"
     ]
    }
   ],
   "source": [
    "def multiply_arrays(A, B):\n",
    "    return A * B[:, :, np.newaxis]\n",
    "\n",
    "# Example usage\n",
    "A = np.random.rand(5, 5, 3)\n",
    "B = np.random.rand(5, 5)\n",
    "result = multiply_arrays(A, B)\n",
    "print(result.shape)  # Output: (5, 5, 3)\n"
   ]
  },
  {
   "cell_type": "markdown",
   "metadata": {},
   "source": [
    "#### 72. How to swap two rows of an array? (★★★)"
   ]
  },
  {
   "cell_type": "code",
   "execution_count": 72,
   "metadata": {},
   "outputs": [
    {
     "name": "stdout",
     "output_type": "stream",
     "text": [
      "[[5 6]\n",
      " [3 4]\n",
      " [1 2]]\n"
     ]
    }
   ],
   "source": [
    "def swap_rows(array, row1, row2):\n",
    "    array[[row1, row2]] = array[[row2, row1]]\n",
    "    return array\n",
    "\n",
    "# Example usage\n",
    "arr = np.array([[1, 2], [3, 4], [5, 6]])\n",
    "result = swap_rows(arr, 0, 2)\n",
    "print(result) "
   ]
  },
  {
   "cell_type": "markdown",
   "metadata": {},
   "source": [
    "#### 73. Consider a set of 10 triplets describing 10 triangles (with shared vertices), find the set of unique line segments composing all the  triangles (★★★)"
   ]
  },
  {
   "cell_type": "code",
   "execution_count": 71,
   "metadata": {},
   "outputs": [
    {
     "name": "stdout",
     "output_type": "stream",
     "text": [
      "[[0 1]\n",
      " [0 2]\n",
      " [1 2]\n",
      " [2 3]\n",
      " [4 4]]\n"
     ]
    }
   ],
   "source": [
    "def unique_segments(triplets):\n",
    "    segments = np.array([[triplets[:, 0], triplets[:, 1]],\n",
    "                         [triplets[:, 1], triplets[:, 2]],\n",
    "                         [triplets[:, 2], triplets[:, 0]]]).reshape(-1, 2)\n",
    "    unique_segments = np.unique(np.sort(segments, axis=1), axis=0)\n",
    "    return unique_segments\n",
    "\n",
    "# Example usage\n",
    "triplets = np.array([[0, 1, 2], [1, 2, 3], [2, 3, 4], [0, 2, 4]])\n",
    "result = unique_segments(triplets)\n",
    "print(result)"
   ]
  },
  {
   "cell_type": "markdown",
   "metadata": {},
   "source": [
    "#### 74. Given a sorted array C that corresponds to a bincount, how to produce an array A such that np.bincount(A) == C? (★★★)"
   ]
  },
  {
   "cell_type": "code",
   "execution_count": 70,
   "metadata": {},
   "outputs": [
    {
     "name": "stdout",
     "output_type": "stream",
     "text": [
      "[1 1 2 2 2 3]\n"
     ]
    }
   ],
   "source": [
    "def bincount_to_array(C):\n",
    "    return np.repeat(np.arange(len(C)), C)\n",
    "\n",
    "# Example usage\n",
    "C = np.array([0, 2, 3, 1])\n",
    "result = bincount_to_array(C)\n",
    "print(result)  # Output: [1 1 2 2 2 3]\n"
   ]
  },
  {
   "cell_type": "markdown",
   "metadata": {},
   "source": [
    "#### 75. How to compute averages using a sliding window over an array? (★★★)"
   ]
  },
  {
   "cell_type": "code",
   "execution_count": 69,
   "metadata": {},
   "outputs": [
    {
     "name": "stdout",
     "output_type": "stream",
     "text": [
      "[2. 3. 4.]\n"
     ]
    }
   ],
   "source": [
    "def sliding_window_average(arr, window_size):\n",
    "    return np.convolve(arr, np.ones(window_size)/window_size, mode='valid')\n",
    "\n",
    "# Example usage\n",
    "arr = np.array([1, 2, 3, 4, 5])\n",
    "result = sliding_window_average(arr, 3)\n",
    "print(result)  # Output: [2. 3. 4.]"
   ]
  },
  {
   "cell_type": "markdown",
   "metadata": {},
   "source": [
    "#### 76. Consider a one-dimensional array Z, build a two-dimensional array whose first row is (Z[0],Z[1],Z[2]) and each subsequent row is  shifted by 1 (last row should be (Z[-3],Z[-2],Z[-1]) (★★★)"
   ]
  },
  {
   "cell_type": "code",
   "execution_count": 67,
   "metadata": {},
   "outputs": [
    {
     "name": "stdout",
     "output_type": "stream",
     "text": [
      "[[ 1  2  3]\n",
      " [ 2  3  4]\n",
      " [ 3  4  5]\n",
      " [ 4  5  6]\n",
      " [ 5  6  7]\n",
      " [ 6  7  8]\n",
      " [ 7  8  9]\n",
      " [ 8  9 10]\n",
      " [ 9 10 11]\n",
      " [10 11 12]\n",
      " [11 12 13]\n",
      " [12 13 14]]\n"
     ]
    }
   ],
   "source": [
    "def build_shifted_array(Z):\n",
    "    return np.array([Z[i:i+3] for i in range(len(Z)-2)])\n",
    "\n",
    "# Example usage\n",
    "Z = np.array([1, 2, 3, 4, 5, 6, 7, 8, 9, 10, 11, 12, 13, 14])\n",
    "result = build_shifted_array(Z)\n",
    "print(result)\n"
   ]
  },
  {
   "cell_type": "markdown",
   "metadata": {},
   "source": [
    "#### 77. How to negate a boolean, or to change the sign of a float inplace? (★★★)"
   ]
  },
  {
   "cell_type": "code",
   "execution_count": 65,
   "metadata": {},
   "outputs": [
    {
     "name": "stdout",
     "output_type": "stream",
     "text": [
      "[False  True False]\n"
     ]
    }
   ],
   "source": [
    "def negate_in_place(arr):\n",
    "    arr[:] = ~arr\n",
    "    return arr\n",
    "\n",
    "# Example usage\n",
    "bool_arr = np.array([True, False, True])\n",
    "result = negate_in_place(bool_arr)\n",
    "print(result)  # Output: [False  True False]\n"
   ]
  },
  {
   "cell_type": "markdown",
   "metadata": {},
   "source": [
    "#### 78. Consider 2 sets of points P0,P1 describing lines (2d) and a point p, how to compute distance from p to each line i (P0[i],P1[i])? (★★★)"
   ]
  },
  {
   "cell_type": "code",
   "execution_count": 64,
   "metadata": {},
   "outputs": [
    {
     "name": "stdout",
     "output_type": "stream",
     "text": [
      "[1. 0. 1.]\n"
     ]
    }
   ],
   "source": [
    "def distance_to_lines(P0, P1, p):\n",
    "    return np.abs((P1[:, 1] - P0[:, 1]) * p[0] - (P1[:, 0] - P0[:, 0]) * p[1] + P1[:, 0] * P0[:, 1] - P1[:, 1] * P0[:, 0]) / np.sqrt((P1[:, 1] - P0[:, 1])**2 + (P1[:, 0] - P0[:, 0])**2)\n",
    "\n",
    "# Example usage\n",
    "P0 = np.array([[0, 0], [1, 1], [2, 2]])\n",
    "P1 = np.array([[1, 0], [2, 1], [3, 2]])\n",
    "p = np.array([1, 1])\n",
    "result = distance_to_lines(P0, P1, p)\n",
    "print(result)  # Output: [1. 0. 1.]\n"
   ]
  },
  {
   "cell_type": "markdown",
   "metadata": {},
   "source": [
    "#### 79. Consider 2 sets of points P0,P1 describing lines (2d) and a set of points P, how to compute distance from each point j (P[j]) to each line i (P0[i],P1[i])? (★★★)"
   ]
  },
  {
   "cell_type": "code",
   "execution_count": 63,
   "metadata": {},
   "outputs": [
    {
     "name": "stdout",
     "output_type": "stream",
     "text": [
      "[[1. 0. 1.]\n",
      " [2. 1. 0.]\n",
      " [3. 2. 1.]]\n"
     ]
    }
   ],
   "source": [
    "def distance_to_lines_from_points(P0, P1, P):\n",
    "    distances = np.zeros((P.shape[0], P0.shape[0]))\n",
    "    for i in range(P0.shape[0]):\n",
    "        distances[:, i] = np.abs((P1[i, 1] - P0[i, 1]) * P[:, 0] - (P1[i, 0] - P0[i, 0]) * P[:, 1] + P1[i, 0] * P0[i, 1] - P1[i, 1] * P0[i, 0]) / np.sqrt((P1[i, 1] - P0[i, 1])**2 + (P1[i, 0] - P0[i, 0])**2)\n",
    "    return distances\n",
    "\n",
    "# Example usage\n",
    "P0 = np.array([[0, 0], [1, 1], [2, 2]])\n",
    "P1 = np.array([[1, 0], [2, 1], [3, 2]])\n",
    "P = np.array([[1, 1], [2, 2], [3, 3]])\n",
    "result = distance_to_lines_from_points(P0, P1, P)\n",
    "print(result)  # Output: distances from each point to each line\n"
   ]
  },
  {
   "cell_type": "markdown",
   "metadata": {},
   "source": [
    "#### 80. Consider an arbitrary array, write a function that extract a subpart with a fixed shape and centered on a given element (pad with a `fill` value when necessary) (★★★)"
   ]
  },
  {
   "cell_type": "code",
   "execution_count": 62,
   "metadata": {},
   "outputs": [
    {
     "name": "stdout",
     "output_type": "stream",
     "text": [
      "[[ 7  8  9]\n",
      " [12 13 14]\n",
      " [17 18 19]]\n"
     ]
    }
   ],
   "source": [
    "import numpy as np\n",
    "\n",
    "def extract_subpart(array, center, shape, fill_value=0):\n",
    "    # Calculate slices for the original array\n",
    "    slices = tuple(\n",
    "        slice(max(c - s // 2, 0), min(c + (s + 1) // 2, dim))\n",
    "        for c, s, dim in zip(center, shape, array.shape)\n",
    "    )\n",
    "    \n",
    "    # Create the result subpart with the specified shape and fill value\n",
    "    subpart = np.full(shape, fill_value)\n",
    "    \n",
    "    # Calculate where to place the data in the subpart\n",
    "    subpart_slices = tuple(\n",
    "        slice(max(s // 2 - c, 0), max(s // 2 - c, 0) + slices[i].stop - slices[i].start)\n",
    "        for i, (c, s, dim) in enumerate(zip(center, shape, array.shape))\n",
    "    )\n",
    "    \n",
    "    # Place the extracted array data into the subpart\n",
    "    subpart[subpart_slices] = array[slices]\n",
    "    return subpart\n",
    "\n",
    "# Example usage\n",
    "array = np.array([[1, 2, 3, 4, 5],\n",
    "                  [6, 7, 8, 9, 10],\n",
    "                  [11, 12, 13, 14, 15],\n",
    "                  [16, 17, 18, 19, 20],\n",
    "                  [21, 22, 23, 24, 25]])\n",
    "center = (2, 2)\n",
    "shape = (3, 3)\n",
    "result = extract_subpart(array, center, shape)\n",
    "print(result)  # Expected output:\n",
    "               # [[ 7  8  9]\n",
    "               #  [12 13 14]\n",
    "               #  [17 18 19]]\n"
   ]
  },
  {
   "cell_type": "markdown",
   "metadata": {},
   "source": [
    "#### 81. Consider an array Z = [1,2,3,4,5,6,7,8,9,10,11,12,13,14], how to generate an array R = [[1,2,3,4], [2,3,4,5], [3,4,5,6], ..., [11,12,13,14]]? (★★★)"
   ]
  },
  {
   "cell_type": "code",
   "execution_count": 58,
   "metadata": {},
   "outputs": [
    {
     "name": "stdout",
     "output_type": "stream",
     "text": [
      "[[ 1  2  3  4]\n",
      " [ 2  3  4  5]\n",
      " [ 3  4  5  6]\n",
      " [ 4  5  6  7]\n",
      " [ 5  6  7  8]\n",
      " [ 6  7  8  9]\n",
      " [ 7  8  9 10]\n",
      " [ 8  9 10 11]\n",
      " [ 9 10 11 12]\n",
      " [10 11 12 13]\n",
      " [11 12 13 14]]\n"
     ]
    }
   ],
   "source": [
    "def generate_sliding_window(Z, window_size):\n",
    "    return np.array([Z[i:i + window_size] for i in range(len(Z) - window_size + 1)])\n",
    "\n",
    "# Example usage\n",
    "Z = np.array([1, 2, 3, 4, 5, 6, 7, 8, 9, 10, 11, 12, 13, 14])\n",
    "result = generate_sliding_window(Z, 4)\n",
    "print(result)"
   ]
  },
  {
   "cell_type": "markdown",
   "metadata": {},
   "source": [
    "#### 82. Compute a matrix rank (★★★)"
   ]
  },
  {
   "cell_type": "code",
   "execution_count": 57,
   "metadata": {},
   "outputs": [
    {
     "name": "stdout",
     "output_type": "stream",
     "text": [
      "2\n"
     ]
    }
   ],
   "source": [
    "def compute_rank(matrix):\n",
    "    return np.linalg.matrix_rank(matrix)\n",
    "\n",
    "# Example usage\n",
    "matrix = np.array([[1, 2, 3], [4, 5, 6], [7, 8, 9]])\n",
    "result = compute_rank(matrix)\n",
    "print(result)  # Output: 2\n"
   ]
  },
  {
   "cell_type": "markdown",
   "metadata": {},
   "source": [
    "#### 83. How to find the most frequent value in an array?"
   ]
  },
  {
   "cell_type": "code",
   "execution_count": 56,
   "metadata": {},
   "outputs": [
    {
     "name": "stdout",
     "output_type": "stream",
     "text": [
      "3\n"
     ]
    }
   ],
   "source": [
    "from scipy import stats\n",
    "\n",
    "def most_frequent_value(array):\n",
    "    return stats.mode(array).mode\n",
    "\n",
    "# Example usage\n",
    "array23 = np.array([1, 2, 2, 3, 3, 3, 4])\n",
    "result = most_frequent_value(array23)\n",
    "print(result)  # Output: 3\n"
   ]
  },
  {
   "cell_type": "markdown",
   "metadata": {},
   "source": [
    "#### 84. Extract all the contiguous 3x3 blocks from a random 10x10 matrix (★★★)"
   ]
  },
  {
   "cell_type": "code",
   "execution_count": 52,
   "metadata": {},
   "outputs": [
    {
     "name": "stdout",
     "output_type": "stream",
     "text": [
      "(64, 3, 3)\n"
     ]
    }
   ],
   "source": [
    "def extract_3x3_blocks(matrix):\n",
    "    blocks = np.lib.stride_tricks.as_strided(matrix, shape=(8, 8, 3, 3), strides=matrix.strides + matrix.strides)\n",
    "    return blocks.reshape(-1, 3, 3)\n",
    "\n",
    "# Example usage\n",
    "matrix = np.random.rand(10, 10)\n",
    "blocks = extract_3x3_blocks(matrix)\n",
    "print(blocks.shape)  # Output: (64, 3, 3)\n"
   ]
  },
  {
   "cell_type": "markdown",
   "metadata": {},
   "source": [
    "#### 85. Create a 2D array subclass such that Z[i,j] == Z[j,i] (★★★)"
   ]
  },
  {
   "cell_type": "code",
   "execution_count": 51,
   "metadata": {},
   "outputs": [
    {
     "name": "stdout",
     "output_type": "stream",
     "text": [
      "(3, 1)\n"
     ]
    }
   ],
   "source": [
    "def sum_matrix_products(matrices, vectors):\n",
    "    return sum(np.dot(matrices[i], vectors[i]) for i in range(len(matrices)))\n",
    "\n",
    "# Example usage\n",
    "matrices = [np.random.rand(3, 3) for _ in range(5)]\n",
    "vectors = [np.random.rand(3, 1) for _ in range(5)]\n",
    "result = sum_matrix_products(matrices, vectors)\n",
    "print(result.shape)  # Output: (3, 1)\n"
   ]
  },
  {
   "cell_type": "markdown",
   "metadata": {},
   "source": [
    "#### 86. Consider a set of p matrices wich shape (n,n) and a set of p vectors with shape (n,1). How to compute the sum of of the p matrix products at once? (result has shape (n,1)) (★★★)"
   ]
  },
  {
   "cell_type": "code",
   "execution_count": 50,
   "metadata": {},
   "outputs": [
    {
     "name": "stdout",
     "output_type": "stream",
     "text": [
      "(3, 1)\n"
     ]
    }
   ],
   "source": [
    "def sum_matrix_products(matrices, vectors):\n",
    "    return sum(np.dot(matrices[i], vectors[i]) for i in range(len(matrices)))\n",
    "\n",
    "# Example usage\n",
    "matrices = [np.random.rand(3, 3) for _ in range(5)]\n",
    "vectors = [np.random.rand(3, 1) for _ in range(5)]\n",
    "result = sum_matrix_products(matrices, vectors)\n",
    "print(result.shape)\n"
   ]
  },
  {
   "cell_type": "markdown",
   "metadata": {},
   "source": [
    "#### 87. Consider a 16x16 array, how to get the block-sum (block size is 4x4)? (★★★)"
   ]
  },
  {
   "cell_type": "code",
   "execution_count": 48,
   "metadata": {},
   "outputs": [
    {
     "name": "stdout",
     "output_type": "stream",
     "text": [
      "(4, 4)\n"
     ]
    }
   ],
   "source": [
    "def block_sum(array, block_size):\n",
    "    return array.reshape(array.shape[0] // block_size, block_size, array.shape[1] // block_size, block_size).sum(axis=(1, 3))\n",
    "\n",
    "# Example usage\n",
    "array = np.random.rand(16, 16)\n",
    "result = block_sum(array, 4)\n",
    "print(result.shape)\n"
   ]
  },
  {
   "cell_type": "markdown",
   "metadata": {},
   "source": [
    "#### 88. How to implement the Game of Life using numpy arrays? (★★★)"
   ]
  },
  {
   "cell_type": "code",
   "execution_count": 46,
   "metadata": {},
   "outputs": [
    {
     "name": "stdout",
     "output_type": "stream",
     "text": [
      "[[0 0 1 1 0]\n",
      " [0 0 0 1 1]\n",
      " [1 1 1 0 1]\n",
      " [1 1 0 0 1]\n",
      " [1 0 0 0 1]]\n"
     ]
    }
   ],
   "source": [
    "def game_of_life(board, steps):\n",
    "    for _ in range(steps):\n",
    "        neighbors = sum(np.roll(np.roll(board, i, 0), j, 1) for i in (-1, 0, 1) for j in (-1, 0, 1) if (i, j) != (0, 0))\n",
    "        board = (neighbors == 3) | (board & (neighbors == 2))\n",
    "    return board\n",
    "\n",
    "# Example usage\n",
    "board = np.random.randint(2, size=(5, 5))\n",
    "result = game_of_life(board, 1)\n",
    "print(result)\n"
   ]
  },
  {
   "cell_type": "markdown",
   "metadata": {},
   "source": [
    "#### 89. How to get the n largest values of an array (★★★)"
   ]
  },
  {
   "cell_type": "code",
   "execution_count": 45,
   "metadata": {},
   "outputs": [
    {
     "name": "stdout",
     "output_type": "stream",
     "text": [
      "[7 8 9]\n"
     ]
    }
   ],
   "source": [
    "def n_largest_values(array, n):\n",
    "    return np.partition(array, -n)[-n:]\n",
    "\n",
    "# Example usage\n",
    "array = np.array([1, 3, 5, 7, 9, 2, 4, 6, 8])\n",
    "result = n_largest_values(array, 3)\n",
    "print(result)"
   ]
  },
  {
   "cell_type": "markdown",
   "metadata": {},
   "source": [
    "#### 90. Given an arbitrary number of vectors, build the cartesian product (every combinations of every item) (★★★)"
   ]
  },
  {
   "cell_type": "code",
   "execution_count": null,
   "metadata": {},
   "outputs": [
    {
     "name": "stdout",
     "output_type": "stream",
     "text": [
      "[['1' 'a']\n",
      " ['1' 'b']\n",
      " ['2' 'a']\n",
      " ['2' 'b']]\n"
     ]
    }
   ],
   "source": [
    "from itertools import product\n",
    "\n",
    "def cartesian_product(*arrays):\n",
    "    return np.array(list(product(*arrays)))\n",
    "\n",
    "# Example usage\n",
    "arrays = [np.array([1, 2]), np.array(['a', 'b'])]\n",
    "result = cartesian_product(*arrays)\n",
    "print(result) "
   ]
  },
  {
   "cell_type": "markdown",
   "metadata": {},
   "source": [
    "#### 91. How to create a record array from a regular array? (★★★)"
   ]
  },
  {
   "cell_type": "code",
   "execution_count": null,
   "metadata": {},
   "outputs": [
    {
     "name": "stdout",
     "output_type": "stream",
     "text": [
      "[[('1', '1') ('Alice', 'Alice')]\n",
      " [('2', '2') ('Bob', 'Bob')]]\n"
     ]
    }
   ],
   "source": [
    "def create_record_array(array, dtype):\n",
    "    return np.array(array, dtype=dtype)\n",
    "\n",
    "# Example usage\n",
    "array = np.array([(1, 'Alice'), (2, 'Bob')])\n",
    "dtype = [('id', 'object'), ('name', 'U10')]\n",
    "result = create_record_array(array, dtype)\n",
    "print(result)"
   ]
  },
  {
   "cell_type": "markdown",
   "metadata": {},
   "source": [
    "#### 92. Consider a large vector Z, compute Z to the power of 3 using 3 different methods (★★★)"
   ]
  },
  {
   "cell_type": "code",
   "execution_count": null,
   "metadata": {},
   "outputs": [
    {
     "name": "stdout",
     "output_type": "stream",
     "text": [
      "(array([  1,   8,  27,  64, 125]), array([  1,   8,  27,  64, 125]), array([  1,   8,  27,  64, 125]))\n"
     ]
    }
   ],
   "source": [
    "def compute_power(Z):\n",
    "    return Z ** 3, np.power(Z, 3), np.array(list(map(lambda x: x ** 3, Z)))\n",
    "\n",
    "# Example usage\n",
    "Z = np.array([1, 2, 3, 4, 5])\n",
    "result = compute_power(Z)\n",
    "print(result)  "
   ]
  },
  {
   "cell_type": "markdown",
   "metadata": {},
   "source": [
    "#### 93. Consider two arrays A and B of shape (8,3) and (2,2). How to find rows of A that contain elements of each row of B regardless of the order of the elements in B? (★★★)"
   ]
  },
  {
   "cell_type": "code",
   "execution_count": 38,
   "metadata": {},
   "outputs": [
    {
     "name": "stdout",
     "output_type": "stream",
     "text": [
      "[]\n"
     ]
    }
   ],
   "source": [
    "def find_rows_containing_elements(A, B):\n",
    "    return np.array([row for row in A if all(elem in row for elem in B.flatten())])\n",
    "\n",
    "# Example usage\n",
    "A = np.array([[1, 2, 3], [4, 5, 6], [1, 5, 2], [7, 8, 9]])\n",
    "B = np.array([[1, 2], [5, 6]])\n",
    "result = find_rows_containing_elements(A, B)\n",
    "print(result)\n"
   ]
  },
  {
   "cell_type": "markdown",
   "metadata": {},
   "source": [
    "#### 94. Considering a 10x3 matrix, extract rows with unequal values (e.g. [2,2,3]) (★★★)"
   ]
  },
  {
   "cell_type": "code",
   "execution_count": 37,
   "metadata": {},
   "outputs": [
    {
     "name": "stdout",
     "output_type": "stream",
     "text": [
      "[[1 2 3]\n",
      " [4 5 4]]\n"
     ]
    }
   ],
   "source": [
    "def extract_unequal_rows(matrix):\n",
    "    return matrix[np.any(matrix != matrix[:, [0]], axis=1)]\n",
    "\n",
    "# Example usage\n",
    "matrix = np.array([[1, 2, 3], [2, 2, 2], [3, 3, 3], [4, 5, 4]])\n",
    "result = extract_unequal_rows(matrix)\n",
    "print(result)\n"
   ]
  },
  {
   "cell_type": "markdown",
   "metadata": {},
   "source": [
    "#### 95. Convert a vector of ints into a matrix binary representation (★★★)"
   ]
  },
  {
   "cell_type": "code",
   "execution_count": 36,
   "metadata": {},
   "outputs": [
    {
     "name": "stdout",
     "output_type": "stream",
     "text": [
      "[[0 0 0 0 0 0 0 1]\n",
      " [0 0 0 0 0 0 1 0]\n",
      " [0 0 0 0 0 0 1 1]]\n"
     ]
    }
   ],
   "source": [
    "def int_to_binary_matrix(vector):\n",
    "    return np.array([[int(bit) for bit in np.binary_repr(num, width=8)] for num in vector])\n",
    "\n",
    "# Example usage\n",
    "vector = np.array([1, 2, 3])\n",
    "result = int_to_binary_matrix(vector)\n",
    "print(result) "
   ]
  },
  {
   "cell_type": "markdown",
   "metadata": {},
   "source": [
    "#### 96. Given a two dimensional array, how to extract unique rows? (★★★)"
   ]
  },
  {
   "cell_type": "code",
   "execution_count": 34,
   "metadata": {},
   "outputs": [
    {
     "name": "stdout",
     "output_type": "stream",
     "text": [
      "[[1 2]\n",
      " [2 3]\n",
      " [4 5]]\n"
     ]
    }
   ],
   "source": [
    "def unique_rows(array):\n",
    "    return np.unique(array, axis=0)\n",
    "\n",
    "# Example usage\n",
    "array = np.array([[1, 2], [2, 3], [1, 2], [4, 5]])\n",
    "result = unique_rows(array)\n",
    "print(result)  "
   ]
  },
  {
   "cell_type": "markdown",
   "metadata": {},
   "source": [
    "#### 97. Considering 2 vectors A & B, write the einsum equivalent of inner, outer, sum, and mul function (★★★)"
   ]
  },
  {
   "cell_type": "code",
   "execution_count": 33,
   "metadata": {},
   "outputs": [
    {
     "name": "stdout",
     "output_type": "stream",
     "text": [
      "[[ 0.    0.75  1.5   2.25  3.  ]\n",
      " [ 0.    0.75  0.5  -0.25 -1.  ]]\n"
     ]
    }
   ],
   "source": [
    "def sample_path(X, Y, num_samples):\n",
    "    t = np.linspace(0, 1, num_samples)\n",
    "    return np.array([np.interp(t, np.linspace(0, 1, len(X)), X),\n",
    "                     np.interp(t, np.linspace(0, 1, len(Y)), Y)])\n",
    "\n",
    "# Example usage\n",
    "X = np.array([0, 1, 2, 3])\n",
    "Y = np.array([0, 1, 0, -1])\n",
    "result = sample_path(X, Y, 5)\n",
    "print(result)  # Output: [[0. 0.5 1. 1.5 2.]\n",
    "                #          [0. 0.5 1. 0.5 -0.]]\n"
   ]
  },
  {
   "cell_type": "markdown",
   "metadata": {},
   "source": [
    "#### 98. Considering a path described by two vectors (X,Y), how to sample it using equidistant samples (★★★)?"
   ]
  },
  {
   "cell_type": "code",
   "execution_count": 32,
   "metadata": {},
   "outputs": [
    {
     "name": "stdout",
     "output_type": "stream",
     "text": [
      "[[ 0.    0.75  1.5   2.25  3.  ]\n",
      " [ 0.    0.75  0.5  -0.25 -1.  ]]\n"
     ]
    }
   ],
   "source": [
    "def sample_path(X, Y, num_samples):\n",
    "    t = np.linspace(0, 1, num_samples)\n",
    "    return np.array([np.interp(t, np.linspace(0, 1, len(X)), X),\n",
    "                     np.interp(t, np.linspace(0, 1, len(Y)), Y)])\n",
    "\n",
    "# Example usage\n",
    "X = np.array([0, 1, 2, 3])\n",
    "Y = np.array([0, 1, 0, -1])\n",
    "result = sample_path(X, Y, 5)\n",
    "print(result)  # Output: [[0. 0.5 1. 1.5 2.]\n",
    "                #          [0. 0.5 1. 0.5 -0.]]\n"
   ]
  },
  {
   "cell_type": "markdown",
   "metadata": {},
   "source": [
    "#### 99. Given an integer n and a 2D array X, select from X the rows which can be interpreted as draws from a multinomial distribution with n degrees, i.e., the rows which only contain integers and which sum to n. (★★★)"
   ]
  },
  {
   "cell_type": "code",
   "execution_count": 31,
   "metadata": {},
   "outputs": [
    {
     "name": "stdout",
     "output_type": "stream",
     "text": [
      "[[1 2 3]\n",
      " [2 2 2]]\n"
     ]
    }
   ],
   "source": [
    "def select_multinomial_rows(X, n):\n",
    "    return X[np.all(X >= 0, axis=1) & (X.sum(axis=1) == n)]\n",
    "\n",
    "# Example usage\n",
    "X = np.array([[1, 2, 3], [2, 2, 2], [3, 3, 3], [0, 0, 0]])\n",
    "n = 6\n",
    "result = select_multinomial_rows(X, n)\n",
    "print(result)  # Output: [[1 2 3]]\n"
   ]
  },
  {
   "cell_type": "markdown",
   "metadata": {},
   "source": [
    "#### 100. Compute bootstrapped 95% confidence intervals for the mean of a 1D array X (i.e., resample the elements of an array with replacement N times, compute the mean of each sample, and then compute percentiles over the means). (★★★)"
   ]
  },
  {
   "cell_type": "code",
   "execution_count": 30,
   "metadata": {},
   "outputs": [
    {
     "name": "stdout",
     "output_type": "stream",
     "text": [
      "(0.43103587225612733, 0.5390153686907675)\n"
     ]
    }
   ],
   "source": [
    "def bootstrap_confidence_interval(X, n_iterations=1000, confidence_level=0.95):\n",
    "    means = []\n",
    "    n = len(X)\n",
    "    for _ in range(n_iterations):\n",
    "        sample = np.random.choice(X, size=n, replace=True)\n",
    "        means.append(np.mean(sample))\n",
    "    lower_bound = np.percentile(means, (1 - confidence_level) / 2 * 100)\n",
    "    upper_bound = np.percentile(means, (1 + confidence_level) / 2 * 100)\n",
    "    return lower_bound, upper_bound\n",
    "\n",
    "# Example usage\n",
    "X = np.random.rand(100)\n",
    "result = bootstrap_confidence_interval(X)\n",
    "print(result)  # Output: (lower_bound, upper_bound)\n"
   ]
  },
  {
   "cell_type": "code",
   "execution_count": null,
   "metadata": {},
   "outputs": [],
   "source": []
  }
 ],
 "metadata": {
  "kernelspec": {
   "display_name": "base",
   "language": "python",
   "name": "python3"
  },
  "language_info": {
   "codemirror_mode": {
    "name": "ipython",
    "version": 3
   },
   "file_extension": ".py",
   "mimetype": "text/x-python",
   "name": "python",
   "nbconvert_exporter": "python",
   "pygments_lexer": "ipython3",
   "version": "3.12.7"
  }
 },
 "nbformat": 4,
 "nbformat_minor": 4
}
