{
 "cells": [
  {
   "cell_type": "markdown",
   "metadata": {},
   "source": [
    "# Apple Stock"
   ]
  },
  {
   "cell_type": "markdown",
   "metadata": {},
   "source": [
    "### Introduction:\n",
    "\n",
    "We are going to use Apple's stock price.\n",
    "\n",
    "\n",
    "### Step 1. Import the necessary libraries"
   ]
  },
  {
   "cell_type": "code",
   "execution_count": null,
   "metadata": {
    "collapsed": false
   },
   "outputs": [],
   "source": [
    "import pandas as pd"
   ]
  },
  {
   "cell_type": "markdown",
   "metadata": {},
   "source": [
    "### Step 2. Import the dataset from this [address](https://raw.githubusercontent.com/guipsamora/pandas_exercises/master/09_Time_Series/Apple_Stock/appl_1980_2014.csv)"
   ]
  },
  {
   "cell_type": "code",
   "execution_count": 3,
   "metadata": {
    "collapsed": true
   },
   "outputs": [],
   "source": [
    "url = 'https://raw.githubusercontent.com/guipsamora/pandas_exercises/master/09_Time_Series/Apple_Stock/appl_1980_2014.csv'"
   ]
  },
  {
   "cell_type": "markdown",
   "metadata": {},
   "source": [
    "### Step 3. Assign it to a variable apple"
   ]
  },
  {
   "cell_type": "code",
   "execution_count": 4,
   "metadata": {
    "collapsed": false
   },
   "outputs": [],
   "source": [
    "df = pd.read_csv(url)"
   ]
  },
  {
   "cell_type": "markdown",
   "metadata": {},
   "source": [
    "### Step 4.  Check out the type of the columns"
   ]
  },
  {
   "cell_type": "code",
   "execution_count": 5,
   "metadata": {
    "collapsed": false
   },
   "outputs": [
    {
     "name": "stdout",
     "output_type": "stream",
     "text": [
      "<class 'pandas.core.frame.DataFrame'>\n",
      "RangeIndex: 8465 entries, 0 to 8464\n",
      "Data columns (total 7 columns):\n",
      " #   Column     Non-Null Count  Dtype  \n",
      "---  ------     --------------  -----  \n",
      " 0   Date       8465 non-null   object \n",
      " 1   Open       8465 non-null   float64\n",
      " 2   High       8465 non-null   float64\n",
      " 3   Low        8465 non-null   float64\n",
      " 4   Close      8465 non-null   float64\n",
      " 5   Volume     8465 non-null   int64  \n",
      " 6   Adj Close  8465 non-null   float64\n",
      "dtypes: float64(5), int64(1), object(1)\n",
      "memory usage: 463.1+ KB\n"
     ]
    }
   ],
   "source": [
    "df.info()"
   ]
  },
  {
   "cell_type": "markdown",
   "metadata": {},
   "source": [
    "### Step 5. Transform the Date column as a datetime type"
   ]
  },
  {
   "cell_type": "code",
   "execution_count": 6,
   "metadata": {
    "collapsed": false
   },
   "outputs": [
    {
     "name": "stdout",
     "output_type": "stream",
     "text": [
      "<class 'pandas.core.frame.DataFrame'>\n",
      "RangeIndex: 8465 entries, 0 to 8464\n",
      "Data columns (total 7 columns):\n",
      " #   Column     Non-Null Count  Dtype         \n",
      "---  ------     --------------  -----         \n",
      " 0   Date       8465 non-null   datetime64[ns]\n",
      " 1   Open       8465 non-null   float64       \n",
      " 2   High       8465 non-null   float64       \n",
      " 3   Low        8465 non-null   float64       \n",
      " 4   Close      8465 non-null   float64       \n",
      " 5   Volume     8465 non-null   int64         \n",
      " 6   Adj Close  8465 non-null   float64       \n",
      "dtypes: datetime64[ns](1), float64(5), int64(1)\n",
      "memory usage: 463.1 KB\n"
     ]
    }
   ],
   "source": [
    "df['Date'] = pd.to_datetime(df['Date'])\n",
    "df.info()"
   ]
  },
  {
   "cell_type": "markdown",
   "metadata": {},
   "source": [
    "### Step 6.  Set the date as the index"
   ]
  },
  {
   "cell_type": "code",
   "execution_count": 7,
   "metadata": {
    "collapsed": false
   },
   "outputs": [
    {
     "data": {
      "application/vnd.microsoft.datawrangler.viewer.v0+json": {
       "columns": [
        {
         "name": "Date",
         "rawType": "datetime64[ns]",
         "type": "datetime"
        },
        {
         "name": "Open",
         "rawType": "float64",
         "type": "float"
        },
        {
         "name": "High",
         "rawType": "float64",
         "type": "float"
        },
        {
         "name": "Low",
         "rawType": "float64",
         "type": "float"
        },
        {
         "name": "Close",
         "rawType": "float64",
         "type": "float"
        },
        {
         "name": "Volume",
         "rawType": "int64",
         "type": "integer"
        },
        {
         "name": "Adj Close",
         "rawType": "float64",
         "type": "float"
        }
       ],
       "conversionMethod": "pd.DataFrame",
       "ref": "591e377d-2477-4caa-9dcc-24a3e367101d",
       "rows": [
        [
         "2014-07-08 00:00:00",
         "96.27",
         "96.8",
         "93.92",
         "95.35",
         "65130000",
         "95.35"
        ],
        [
         "2014-07-07 00:00:00",
         "94.14",
         "95.99",
         "94.1",
         "95.97",
         "56305400",
         "95.97"
        ],
        [
         "2014-07-03 00:00:00",
         "93.67",
         "94.1",
         "93.2",
         "94.03",
         "22891800",
         "94.03"
        ],
        [
         "2014-07-02 00:00:00",
         "93.87",
         "94.06",
         "93.09",
         "93.48",
         "28420900",
         "93.48"
        ],
        [
         "2014-07-01 00:00:00",
         "93.52",
         "94.07",
         "93.13",
         "93.52",
         "38170200",
         "93.52"
        ],
        [
         "2014-06-30 00:00:00",
         "92.1",
         "93.73",
         "92.09",
         "92.93",
         "49482300",
         "92.93"
        ],
        [
         "2014-06-27 00:00:00",
         "90.82",
         "92.0",
         "90.77",
         "91.98",
         "64006800",
         "91.98"
        ],
        [
         "2014-06-26 00:00:00",
         "90.37",
         "91.05",
         "89.8",
         "90.9",
         "32595800",
         "90.9"
        ],
        [
         "2014-06-25 00:00:00",
         "90.21",
         "90.7",
         "89.65",
         "90.36",
         "36852200",
         "90.36"
        ],
        [
         "2014-06-24 00:00:00",
         "90.75",
         "91.74",
         "90.19",
         "90.28",
         "38988300",
         "90.28"
        ],
        [
         "2014-06-23 00:00:00",
         "91.32",
         "91.62",
         "90.6",
         "90.83",
         "43618200",
         "90.83"
        ],
        [
         "2014-06-20 00:00:00",
         "91.85",
         "92.55",
         "90.9",
         "90.91",
         "100813200",
         "90.91"
        ],
        [
         "2014-06-19 00:00:00",
         "92.29",
         "92.3",
         "91.34",
         "91.86",
         "35486400",
         "91.86"
        ],
        [
         "2014-06-18 00:00:00",
         "92.27",
         "92.29",
         "91.35",
         "92.18",
         "33493800",
         "92.18"
        ],
        [
         "2014-06-17 00:00:00",
         "92.31",
         "92.7",
         "91.8",
         "92.08",
         "29689800",
         "92.08"
        ],
        [
         "2014-06-16 00:00:00",
         "91.51",
         "92.75",
         "91.45",
         "92.2",
         "35561000",
         "92.2"
        ],
        [
         "2014-06-13 00:00:00",
         "92.2",
         "92.44",
         "90.88",
         "91.28",
         "54525000",
         "91.28"
        ],
        [
         "2014-06-12 00:00:00",
         "94.04",
         "94.12",
         "91.9",
         "92.29",
         "54749000",
         "92.29"
        ],
        [
         "2014-06-11 00:00:00",
         "94.13",
         "94.76",
         "93.47",
         "93.86",
         "45681000",
         "93.86"
        ],
        [
         "2014-06-10 00:00:00",
         "94.73",
         "95.05",
         "93.57",
         "94.25",
         "62777000",
         "94.25"
        ],
        [
         "2014-06-09 00:00:00",
         "92.7",
         "93.88",
         "91.75",
         "93.7",
         "75415000",
         "93.7"
        ],
        [
         "2014-06-06 00:00:00",
         "649.9",
         "651.26",
         "644.47",
         "645.57",
         "87484600",
         "92.22"
        ],
        [
         "2014-06-05 00:00:00",
         "646.2",
         "649.37",
         "642.61",
         "647.35",
         "75951400",
         "92.48"
        ],
        [
         "2014-06-04 00:00:00",
         "637.44",
         "647.89",
         "636.11",
         "644.82",
         "83870500",
         "92.12"
        ],
        [
         "2014-06-03 00:00:00",
         "628.46",
         "638.74",
         "628.25",
         "637.54",
         "73177300",
         "91.08"
        ],
        [
         "2014-06-02 00:00:00",
         "633.96",
         "634.83",
         "622.5",
         "628.65",
         "92337700",
         "89.81"
        ],
        [
         "2014-05-30 00:00:00",
         "637.98",
         "644.17",
         "628.9",
         "633.0",
         "141005200",
         "90.43"
        ],
        [
         "2014-05-29 00:00:00",
         "627.85",
         "636.87",
         "627.77",
         "635.38",
         "94118500",
         "90.77"
        ],
        [
         "2014-05-28 00:00:00",
         "626.02",
         "629.83",
         "623.78",
         "624.01",
         "78870400",
         "89.14"
        ],
        [
         "2014-05-27 00:00:00",
         "615.88",
         "625.86",
         "615.63",
         "625.63",
         "87216500",
         "89.38"
        ],
        [
         "2014-05-23 00:00:00",
         "607.25",
         "614.73",
         "606.47",
         "614.13",
         "58052400",
         "87.73"
        ],
        [
         "2014-05-22 00:00:00",
         "606.6",
         "609.85",
         "604.1",
         "607.27",
         "50190000",
         "86.75"
        ],
        [
         "2014-05-21 00:00:00",
         "603.83",
         "606.7",
         "602.06",
         "606.31",
         "49214900",
         "86.62"
        ],
        [
         "2014-05-20 00:00:00",
         "604.51",
         "606.4",
         "600.73",
         "604.71",
         "58709000",
         "86.39"
        ],
        [
         "2014-05-19 00:00:00",
         "597.85",
         "607.33",
         "597.33",
         "604.59",
         "79438800",
         "86.37"
        ],
        [
         "2014-05-16 00:00:00",
         "588.63",
         "597.53",
         "585.4",
         "597.51",
         "69064100",
         "85.36"
        ],
        [
         "2014-05-15 00:00:00",
         "594.7",
         "596.6",
         "588.04",
         "588.82",
         "57711500",
         "84.12"
        ],
        [
         "2014-05-14 00:00:00",
         "592.43",
         "597.4",
         "591.74",
         "593.87",
         "41601000",
         "84.84"
        ],
        [
         "2014-05-13 00:00:00",
         "592.0",
         "594.54",
         "590.7",
         "593.76",
         "39934300",
         "84.82"
        ],
        [
         "2014-05-12 00:00:00",
         "587.49",
         "593.66",
         "587.4",
         "592.83",
         "53302200",
         "84.69"
        ],
        [
         "2014-05-09 00:00:00",
         "584.54",
         "586.25",
         "580.33",
         "585.54",
         "72899400",
         "83.65"
        ],
        [
         "2014-05-08 00:00:00",
         "588.25",
         "594.41",
         "586.4",
         "587.99",
         "57574300",
         "84.0"
        ],
        [
         "2014-05-07 00:00:00",
         "595.25",
         "597.29",
         "587.73",
         "592.33",
         "70716100",
         "84.15"
        ],
        [
         "2014-05-06 00:00:00",
         "601.8",
         "604.41",
         "594.41",
         "594.41",
         "93641100",
         "84.44"
        ],
        [
         "2014-05-05 00:00:00",
         "590.14",
         "601.0",
         "590.0",
         "600.96",
         "71766800",
         "85.37"
        ],
        [
         "2014-05-02 00:00:00",
         "592.34",
         "594.2",
         "589.71",
         "592.58",
         "47878600",
         "84.18"
        ],
        [
         "2014-05-01 00:00:00",
         "592.0",
         "594.8",
         "586.36",
         "591.48",
         "61012000",
         "84.03"
        ],
        [
         "2014-04-30 00:00:00",
         "592.64",
         "599.43",
         "589.8",
         "590.09",
         "114160200",
         "83.83"
        ],
        [
         "2014-04-29 00:00:00",
         "593.74",
         "595.98",
         "589.51",
         "592.33",
         "84344400",
         "84.15"
        ],
        [
         "2014-04-28 00:00:00",
         "572.8",
         "595.75",
         "572.55",
         "594.09",
         "167371400",
         "84.4"
        ]
       ],
       "shape": {
        "columns": 6,
        "rows": 8465
       }
      },
      "text/html": [
       "<div>\n",
       "<style scoped>\n",
       "    .dataframe tbody tr th:only-of-type {\n",
       "        vertical-align: middle;\n",
       "    }\n",
       "\n",
       "    .dataframe tbody tr th {\n",
       "        vertical-align: top;\n",
       "    }\n",
       "\n",
       "    .dataframe thead th {\n",
       "        text-align: right;\n",
       "    }\n",
       "</style>\n",
       "<table border=\"1\" class=\"dataframe\">\n",
       "  <thead>\n",
       "    <tr style=\"text-align: right;\">\n",
       "      <th></th>\n",
       "      <th>Open</th>\n",
       "      <th>High</th>\n",
       "      <th>Low</th>\n",
       "      <th>Close</th>\n",
       "      <th>Volume</th>\n",
       "      <th>Adj Close</th>\n",
       "    </tr>\n",
       "    <tr>\n",
       "      <th>Date</th>\n",
       "      <th></th>\n",
       "      <th></th>\n",
       "      <th></th>\n",
       "      <th></th>\n",
       "      <th></th>\n",
       "      <th></th>\n",
       "    </tr>\n",
       "  </thead>\n",
       "  <tbody>\n",
       "    <tr>\n",
       "      <th>2014-07-08</th>\n",
       "      <td>96.27</td>\n",
       "      <td>96.80</td>\n",
       "      <td>93.92</td>\n",
       "      <td>95.35</td>\n",
       "      <td>65130000</td>\n",
       "      <td>95.35</td>\n",
       "    </tr>\n",
       "    <tr>\n",
       "      <th>2014-07-07</th>\n",
       "      <td>94.14</td>\n",
       "      <td>95.99</td>\n",
       "      <td>94.10</td>\n",
       "      <td>95.97</td>\n",
       "      <td>56305400</td>\n",
       "      <td>95.97</td>\n",
       "    </tr>\n",
       "    <tr>\n",
       "      <th>2014-07-03</th>\n",
       "      <td>93.67</td>\n",
       "      <td>94.10</td>\n",
       "      <td>93.20</td>\n",
       "      <td>94.03</td>\n",
       "      <td>22891800</td>\n",
       "      <td>94.03</td>\n",
       "    </tr>\n",
       "    <tr>\n",
       "      <th>2014-07-02</th>\n",
       "      <td>93.87</td>\n",
       "      <td>94.06</td>\n",
       "      <td>93.09</td>\n",
       "      <td>93.48</td>\n",
       "      <td>28420900</td>\n",
       "      <td>93.48</td>\n",
       "    </tr>\n",
       "    <tr>\n",
       "      <th>2014-07-01</th>\n",
       "      <td>93.52</td>\n",
       "      <td>94.07</td>\n",
       "      <td>93.13</td>\n",
       "      <td>93.52</td>\n",
       "      <td>38170200</td>\n",
       "      <td>93.52</td>\n",
       "    </tr>\n",
       "    <tr>\n",
       "      <th>...</th>\n",
       "      <td>...</td>\n",
       "      <td>...</td>\n",
       "      <td>...</td>\n",
       "      <td>...</td>\n",
       "      <td>...</td>\n",
       "      <td>...</td>\n",
       "    </tr>\n",
       "    <tr>\n",
       "      <th>1980-12-18</th>\n",
       "      <td>26.63</td>\n",
       "      <td>26.75</td>\n",
       "      <td>26.63</td>\n",
       "      <td>26.63</td>\n",
       "      <td>18362400</td>\n",
       "      <td>0.41</td>\n",
       "    </tr>\n",
       "    <tr>\n",
       "      <th>1980-12-17</th>\n",
       "      <td>25.87</td>\n",
       "      <td>26.00</td>\n",
       "      <td>25.87</td>\n",
       "      <td>25.87</td>\n",
       "      <td>21610400</td>\n",
       "      <td>0.40</td>\n",
       "    </tr>\n",
       "    <tr>\n",
       "      <th>1980-12-16</th>\n",
       "      <td>25.37</td>\n",
       "      <td>25.37</td>\n",
       "      <td>25.25</td>\n",
       "      <td>25.25</td>\n",
       "      <td>26432000</td>\n",
       "      <td>0.39</td>\n",
       "    </tr>\n",
       "    <tr>\n",
       "      <th>1980-12-15</th>\n",
       "      <td>27.38</td>\n",
       "      <td>27.38</td>\n",
       "      <td>27.25</td>\n",
       "      <td>27.25</td>\n",
       "      <td>43971200</td>\n",
       "      <td>0.42</td>\n",
       "    </tr>\n",
       "    <tr>\n",
       "      <th>1980-12-12</th>\n",
       "      <td>28.75</td>\n",
       "      <td>28.87</td>\n",
       "      <td>28.75</td>\n",
       "      <td>28.75</td>\n",
       "      <td>117258400</td>\n",
       "      <td>0.45</td>\n",
       "    </tr>\n",
       "  </tbody>\n",
       "</table>\n",
       "<p>8465 rows × 6 columns</p>\n",
       "</div>"
      ],
      "text/plain": [
       "             Open   High    Low  Close     Volume  Adj Close\n",
       "Date                                                        \n",
       "2014-07-08  96.27  96.80  93.92  95.35   65130000      95.35\n",
       "2014-07-07  94.14  95.99  94.10  95.97   56305400      95.97\n",
       "2014-07-03  93.67  94.10  93.20  94.03   22891800      94.03\n",
       "2014-07-02  93.87  94.06  93.09  93.48   28420900      93.48\n",
       "2014-07-01  93.52  94.07  93.13  93.52   38170200      93.52\n",
       "...           ...    ...    ...    ...        ...        ...\n",
       "1980-12-18  26.63  26.75  26.63  26.63   18362400       0.41\n",
       "1980-12-17  25.87  26.00  25.87  25.87   21610400       0.40\n",
       "1980-12-16  25.37  25.37  25.25  25.25   26432000       0.39\n",
       "1980-12-15  27.38  27.38  27.25  27.25   43971200       0.42\n",
       "1980-12-12  28.75  28.87  28.75  28.75  117258400       0.45\n",
       "\n",
       "[8465 rows x 6 columns]"
      ]
     },
     "execution_count": 7,
     "metadata": {},
     "output_type": "execute_result"
    }
   ],
   "source": [
    "df.set_index('Date')"
   ]
  },
  {
   "cell_type": "markdown",
   "metadata": {},
   "source": [
    "### Step 7.  Is there any duplicate dates?"
   ]
  },
  {
   "cell_type": "code",
   "execution_count": 8,
   "metadata": {
    "collapsed": false
   },
   "outputs": [
    {
     "data": {
      "text/plain": [
       "False    8465\n",
       "Name: count, dtype: int64"
      ]
     },
     "execution_count": 8,
     "metadata": {},
     "output_type": "execute_result"
    }
   ],
   "source": [
    "df.duplicated(subset=['Date']).value_counts()"
   ]
  },
  {
   "cell_type": "markdown",
   "metadata": {},
   "source": [
    "### Step 8.  Ops...it seems the index is from the most recent date. Make the first entry the oldest date."
   ]
  },
  {
   "cell_type": "code",
   "execution_count": 9,
   "metadata": {
    "collapsed": false
   },
   "outputs": [
    {
     "data": {
      "application/vnd.microsoft.datawrangler.viewer.v0+json": {
       "columns": [
        {
         "name": "index",
         "rawType": "int64",
         "type": "integer"
        },
        {
         "name": "Date",
         "rawType": "datetime64[ns]",
         "type": "datetime"
        },
        {
         "name": "Open",
         "rawType": "float64",
         "type": "float"
        },
        {
         "name": "High",
         "rawType": "float64",
         "type": "float"
        },
        {
         "name": "Low",
         "rawType": "float64",
         "type": "float"
        },
        {
         "name": "Close",
         "rawType": "float64",
         "type": "float"
        },
        {
         "name": "Volume",
         "rawType": "int64",
         "type": "integer"
        },
        {
         "name": "Adj Close",
         "rawType": "float64",
         "type": "float"
        }
       ],
       "conversionMethod": "pd.DataFrame",
       "ref": "9beae53d-2256-478d-9886-4502cf13b712",
       "rows": [
        [
         "8464",
         "1980-12-12 00:00:00",
         "28.75",
         "28.87",
         "28.75",
         "28.75",
         "117258400",
         "0.45"
        ],
        [
         "8463",
         "1980-12-15 00:00:00",
         "27.38",
         "27.38",
         "27.25",
         "27.25",
         "43971200",
         "0.42"
        ],
        [
         "8462",
         "1980-12-16 00:00:00",
         "25.37",
         "25.37",
         "25.25",
         "25.25",
         "26432000",
         "0.39"
        ],
        [
         "8461",
         "1980-12-17 00:00:00",
         "25.87",
         "26.0",
         "25.87",
         "25.87",
         "21610400",
         "0.4"
        ],
        [
         "8460",
         "1980-12-18 00:00:00",
         "26.63",
         "26.75",
         "26.63",
         "26.63",
         "18362400",
         "0.41"
        ],
        [
         "8459",
         "1980-12-19 00:00:00",
         "28.25",
         "28.38",
         "28.25",
         "28.25",
         "12157600",
         "0.44"
        ],
        [
         "8458",
         "1980-12-22 00:00:00",
         "29.63",
         "29.75",
         "29.63",
         "29.63",
         "9340800",
         "0.46"
        ],
        [
         "8457",
         "1980-12-23 00:00:00",
         "30.88",
         "31.0",
         "30.88",
         "30.88",
         "11737600",
         "0.48"
        ],
        [
         "8456",
         "1980-12-24 00:00:00",
         "32.5",
         "32.63",
         "32.5",
         "32.5",
         "12000800",
         "0.51"
        ],
        [
         "8455",
         "1980-12-26 00:00:00",
         "35.5",
         "35.62",
         "35.5",
         "35.5",
         "13893600",
         "0.55"
        ],
        [
         "8454",
         "1980-12-29 00:00:00",
         "36.0",
         "36.13",
         "36.0",
         "36.0",
         "23290400",
         "0.56"
        ],
        [
         "8453",
         "1980-12-30 00:00:00",
         "35.25",
         "35.25",
         "35.12",
         "35.12",
         "17220000",
         "0.55"
        ],
        [
         "8452",
         "1980-12-31 00:00:00",
         "34.25",
         "34.25",
         "34.13",
         "34.13",
         "8937600",
         "0.53"
        ],
        [
         "8451",
         "1981-01-02 00:00:00",
         "34.5",
         "34.75",
         "34.5",
         "34.5",
         "5415200",
         "0.54"
        ],
        [
         "8450",
         "1981-01-05 00:00:00",
         "33.87",
         "33.87",
         "33.75",
         "33.75",
         "8932000",
         "0.53"
        ],
        [
         "8449",
         "1981-01-06 00:00:00",
         "32.37",
         "32.37",
         "32.25",
         "32.25",
         "11289600",
         "0.5"
        ],
        [
         "8448",
         "1981-01-07 00:00:00",
         "31.0",
         "31.0",
         "30.88",
         "30.88",
         "13921600",
         "0.48"
        ],
        [
         "8447",
         "1981-01-08 00:00:00",
         "30.37",
         "30.37",
         "30.25",
         "30.25",
         "9956800",
         "0.47"
        ],
        [
         "8446",
         "1981-01-09 00:00:00",
         "31.88",
         "32.0",
         "31.88",
         "31.88",
         "5376000",
         "0.5"
        ],
        [
         "8445",
         "1981-01-12 00:00:00",
         "31.88",
         "31.88",
         "31.62",
         "31.62",
         "5924800",
         "0.49"
        ],
        [
         "8444",
         "1981-01-13 00:00:00",
         "30.63",
         "30.63",
         "30.5",
         "30.5",
         "5762400",
         "0.48"
        ],
        [
         "8443",
         "1981-01-14 00:00:00",
         "30.63",
         "30.75",
         "30.63",
         "30.63",
         "3572800",
         "0.48"
        ],
        [
         "8442",
         "1981-01-15 00:00:00",
         "31.25",
         "31.5",
         "31.25",
         "31.25",
         "3516800",
         "0.49"
        ],
        [
         "8441",
         "1981-01-16 00:00:00",
         "31.12",
         "31.12",
         "31.0",
         "31.0",
         "3348800",
         "0.48"
        ],
        [
         "8440",
         "1981-01-19 00:00:00",
         "32.87",
         "33.0",
         "32.87",
         "32.87",
         "10393600",
         "0.51"
        ],
        [
         "8439",
         "1981-01-20 00:00:00",
         "32.0",
         "32.0",
         "31.88",
         "31.88",
         "7520800",
         "0.5"
        ],
        [
         "8438",
         "1981-01-21 00:00:00",
         "32.5",
         "32.75",
         "32.5",
         "32.5",
         "3976000",
         "0.51"
        ],
        [
         "8437",
         "1981-01-22 00:00:00",
         "32.87",
         "33.13",
         "32.87",
         "32.87",
         "8887200",
         "0.51"
        ],
        [
         "8436",
         "1981-01-23 00:00:00",
         "32.87",
         "33.0",
         "32.75",
         "32.75",
         "2805600",
         "0.51"
        ],
        [
         "8435",
         "1981-01-26 00:00:00",
         "32.37",
         "32.37",
         "32.25",
         "32.25",
         "6160000",
         "0.5"
        ],
        [
         "8434",
         "1981-01-27 00:00:00",
         "32.25",
         "32.25",
         "32.0",
         "32.0",
         "5924800",
         "0.5"
        ],
        [
         "8433",
         "1981-01-28 00:00:00",
         "31.12",
         "31.12",
         "31.0",
         "31.0",
         "7039200",
         "0.48"
        ],
        [
         "8432",
         "1981-01-29 00:00:00",
         "30.0",
         "30.0",
         "29.87",
         "29.87",
         "10976000",
         "0.47"
        ],
        [
         "8431",
         "1981-01-30 00:00:00",
         "28.5",
         "28.5",
         "28.25",
         "28.25",
         "11547200",
         "0.44"
        ],
        [
         "8430",
         "1981-02-02 00:00:00",
         "26.75",
         "26.75",
         "26.63",
         "26.63",
         "5941600",
         "0.41"
        ],
        [
         "8429",
         "1981-02-03 00:00:00",
         "27.62",
         "27.75",
         "27.62",
         "27.62",
         "4788000",
         "0.43"
        ],
        [
         "8428",
         "1981-02-04 00:00:00",
         "28.62",
         "28.75",
         "28.62",
         "28.62",
         "6966400",
         "0.45"
        ],
        [
         "8427",
         "1981-02-05 00:00:00",
         "28.62",
         "28.87",
         "28.62",
         "28.62",
         "1982400",
         "0.45"
        ],
        [
         "8426",
         "1981-02-06 00:00:00",
         "28.75",
         "28.87",
         "28.75",
         "28.75",
         "3466400",
         "0.45"
        ],
        [
         "8425",
         "1981-02-09 00:00:00",
         "27.5",
         "27.5",
         "27.25",
         "27.25",
         "4188800",
         "0.42"
        ],
        [
         "8424",
         "1981-02-10 00:00:00",
         "27.25",
         "27.38",
         "27.25",
         "27.25",
         "4586400",
         "0.42"
        ],
        [
         "8423",
         "1981-02-11 00:00:00",
         "26.5",
         "26.5",
         "26.37",
         "26.37",
         "3460800",
         "0.41"
        ],
        [
         "8422",
         "1981-02-12 00:00:00",
         "26.25",
         "26.25",
         "26.13",
         "26.13",
         "3640000",
         "0.41"
        ],
        [
         "8421",
         "1981-02-13 00:00:00",
         "25.75",
         "25.75",
         "25.5",
         "25.5",
         "2788800",
         "0.4"
        ],
        [
         "8420",
         "1981-02-17 00:00:00",
         "26.13",
         "26.25",
         "26.13",
         "26.13",
         "3068800",
         "0.41"
        ],
        [
         "8419",
         "1981-02-18 00:00:00",
         "27.25",
         "27.5",
         "27.25",
         "27.25",
         "4810400",
         "0.42"
        ],
        [
         "8418",
         "1981-02-19 00:00:00",
         "25.75",
         "25.75",
         "25.63",
         "25.63",
         "5577600",
         "0.4"
        ],
        [
         "8417",
         "1981-02-20 00:00:00",
         "24.38",
         "24.38",
         "24.25",
         "24.25",
         "6092800",
         "0.38"
        ],
        [
         "8416",
         "1981-02-23 00:00:00",
         "24.62",
         "24.75",
         "24.62",
         "24.62",
         "3528000",
         "0.38"
        ],
        [
         "8415",
         "1981-02-24 00:00:00",
         "24.0",
         "24.0",
         "23.75",
         "23.75",
         "4244800",
         "0.37"
        ]
       ],
       "shape": {
        "columns": 7,
        "rows": 8465
       }
      },
      "text/html": [
       "<div>\n",
       "<style scoped>\n",
       "    .dataframe tbody tr th:only-of-type {\n",
       "        vertical-align: middle;\n",
       "    }\n",
       "\n",
       "    .dataframe tbody tr th {\n",
       "        vertical-align: top;\n",
       "    }\n",
       "\n",
       "    .dataframe thead th {\n",
       "        text-align: right;\n",
       "    }\n",
       "</style>\n",
       "<table border=\"1\" class=\"dataframe\">\n",
       "  <thead>\n",
       "    <tr style=\"text-align: right;\">\n",
       "      <th></th>\n",
       "      <th>Date</th>\n",
       "      <th>Open</th>\n",
       "      <th>High</th>\n",
       "      <th>Low</th>\n",
       "      <th>Close</th>\n",
       "      <th>Volume</th>\n",
       "      <th>Adj Close</th>\n",
       "    </tr>\n",
       "  </thead>\n",
       "  <tbody>\n",
       "    <tr>\n",
       "      <th>8464</th>\n",
       "      <td>1980-12-12</td>\n",
       "      <td>28.75</td>\n",
       "      <td>28.87</td>\n",
       "      <td>28.75</td>\n",
       "      <td>28.75</td>\n",
       "      <td>117258400</td>\n",
       "      <td>0.45</td>\n",
       "    </tr>\n",
       "    <tr>\n",
       "      <th>8463</th>\n",
       "      <td>1980-12-15</td>\n",
       "      <td>27.38</td>\n",
       "      <td>27.38</td>\n",
       "      <td>27.25</td>\n",
       "      <td>27.25</td>\n",
       "      <td>43971200</td>\n",
       "      <td>0.42</td>\n",
       "    </tr>\n",
       "    <tr>\n",
       "      <th>8462</th>\n",
       "      <td>1980-12-16</td>\n",
       "      <td>25.37</td>\n",
       "      <td>25.37</td>\n",
       "      <td>25.25</td>\n",
       "      <td>25.25</td>\n",
       "      <td>26432000</td>\n",
       "      <td>0.39</td>\n",
       "    </tr>\n",
       "    <tr>\n",
       "      <th>8461</th>\n",
       "      <td>1980-12-17</td>\n",
       "      <td>25.87</td>\n",
       "      <td>26.00</td>\n",
       "      <td>25.87</td>\n",
       "      <td>25.87</td>\n",
       "      <td>21610400</td>\n",
       "      <td>0.40</td>\n",
       "    </tr>\n",
       "    <tr>\n",
       "      <th>8460</th>\n",
       "      <td>1980-12-18</td>\n",
       "      <td>26.63</td>\n",
       "      <td>26.75</td>\n",
       "      <td>26.63</td>\n",
       "      <td>26.63</td>\n",
       "      <td>18362400</td>\n",
       "      <td>0.41</td>\n",
       "    </tr>\n",
       "    <tr>\n",
       "      <th>...</th>\n",
       "      <td>...</td>\n",
       "      <td>...</td>\n",
       "      <td>...</td>\n",
       "      <td>...</td>\n",
       "      <td>...</td>\n",
       "      <td>...</td>\n",
       "      <td>...</td>\n",
       "    </tr>\n",
       "    <tr>\n",
       "      <th>4</th>\n",
       "      <td>2014-07-01</td>\n",
       "      <td>93.52</td>\n",
       "      <td>94.07</td>\n",
       "      <td>93.13</td>\n",
       "      <td>93.52</td>\n",
       "      <td>38170200</td>\n",
       "      <td>93.52</td>\n",
       "    </tr>\n",
       "    <tr>\n",
       "      <th>3</th>\n",
       "      <td>2014-07-02</td>\n",
       "      <td>93.87</td>\n",
       "      <td>94.06</td>\n",
       "      <td>93.09</td>\n",
       "      <td>93.48</td>\n",
       "      <td>28420900</td>\n",
       "      <td>93.48</td>\n",
       "    </tr>\n",
       "    <tr>\n",
       "      <th>2</th>\n",
       "      <td>2014-07-03</td>\n",
       "      <td>93.67</td>\n",
       "      <td>94.10</td>\n",
       "      <td>93.20</td>\n",
       "      <td>94.03</td>\n",
       "      <td>22891800</td>\n",
       "      <td>94.03</td>\n",
       "    </tr>\n",
       "    <tr>\n",
       "      <th>1</th>\n",
       "      <td>2014-07-07</td>\n",
       "      <td>94.14</td>\n",
       "      <td>95.99</td>\n",
       "      <td>94.10</td>\n",
       "      <td>95.97</td>\n",
       "      <td>56305400</td>\n",
       "      <td>95.97</td>\n",
       "    </tr>\n",
       "    <tr>\n",
       "      <th>0</th>\n",
       "      <td>2014-07-08</td>\n",
       "      <td>96.27</td>\n",
       "      <td>96.80</td>\n",
       "      <td>93.92</td>\n",
       "      <td>95.35</td>\n",
       "      <td>65130000</td>\n",
       "      <td>95.35</td>\n",
       "    </tr>\n",
       "  </tbody>\n",
       "</table>\n",
       "<p>8465 rows × 7 columns</p>\n",
       "</div>"
      ],
      "text/plain": [
       "           Date   Open   High    Low  Close     Volume  Adj Close\n",
       "8464 1980-12-12  28.75  28.87  28.75  28.75  117258400       0.45\n",
       "8463 1980-12-15  27.38  27.38  27.25  27.25   43971200       0.42\n",
       "8462 1980-12-16  25.37  25.37  25.25  25.25   26432000       0.39\n",
       "8461 1980-12-17  25.87  26.00  25.87  25.87   21610400       0.40\n",
       "8460 1980-12-18  26.63  26.75  26.63  26.63   18362400       0.41\n",
       "...         ...    ...    ...    ...    ...        ...        ...\n",
       "4    2014-07-01  93.52  94.07  93.13  93.52   38170200      93.52\n",
       "3    2014-07-02  93.87  94.06  93.09  93.48   28420900      93.48\n",
       "2    2014-07-03  93.67  94.10  93.20  94.03   22891800      94.03\n",
       "1    2014-07-07  94.14  95.99  94.10  95.97   56305400      95.97\n",
       "0    2014-07-08  96.27  96.80  93.92  95.35   65130000      95.35\n",
       "\n",
       "[8465 rows x 7 columns]"
      ]
     },
     "execution_count": 9,
     "metadata": {},
     "output_type": "execute_result"
    }
   ],
   "source": [
    "df.sort_index(ascending=False)"
   ]
  },
  {
   "cell_type": "markdown",
   "metadata": {},
   "source": [
    "### Step 9. Get the last business day of each month"
   ]
  },
  {
   "cell_type": "code",
   "execution_count": 10,
   "metadata": {
    "collapsed": false
   },
   "outputs": [
    {
     "data": {
      "text/plain": [
       "DatetimeIndex(['2014-07-31', '2014-08-29', '2014-09-30', '2014-10-31',\n",
       "               '2014-11-28', '2014-12-31', '2015-01-30', '2015-02-27',\n",
       "               '2015-03-31', '2015-04-30', '2015-05-29', '2015-06-30'],\n",
       "              dtype='datetime64[ns]', freq='BME')"
      ]
     },
     "execution_count": 10,
     "metadata": {},
     "output_type": "execute_result"
    }
   ],
   "source": [
    "pd.date_range(start=df['Date'].iloc[0], periods=12, freq='BME')"
   ]
  },
  {
   "cell_type": "markdown",
   "metadata": {},
   "source": [
    "### Step 10.  What is the difference in days between the first day and the oldest"
   ]
  },
  {
   "cell_type": "code",
   "execution_count": 11,
   "metadata": {
    "collapsed": false
   },
   "outputs": [
    {
     "data": {
      "text/plain": [
       "Timedelta('12261 days 00:00:00')"
      ]
     },
     "execution_count": 11,
     "metadata": {},
     "output_type": "execute_result"
    }
   ],
   "source": [
    "df['Date'].max() - df['Date'].min()"
   ]
  },
  {
   "cell_type": "markdown",
   "metadata": {},
   "source": [
    "### Step 11.  How many months in the data we have?"
   ]
  },
  {
   "cell_type": "code",
   "execution_count": 14,
   "metadata": {
    "collapsed": false
   },
   "outputs": [
    {
     "data": {
      "text/plain": [
       "12"
      ]
     },
     "execution_count": 14,
     "metadata": {},
     "output_type": "execute_result"
    }
   ],
   "source": [
    "pd.date_range(start=df['Date'].iloc[0], periods=12, freq='BME').value_counts().sum()\n",
    "#12 months"
   ]
  },
  {
   "cell_type": "markdown",
   "metadata": {},
   "source": [
    "### Step 12. Plot the 'Adj Close' value. Set the size of the figure to 13.5 x 9 inches"
   ]
  },
  {
   "cell_type": "code",
   "execution_count": 22,
   "metadata": {
    "collapsed": false
   },
   "outputs": [
    {
     "data": {
      "image/png": "[encoded data removed]",
      "text/plain": [
       "<Figure size 1350x900 with 1 Axes>"
      ]
     },
     "metadata": {},
     "output_type": "display_data"
    }
   ],
   "source": [
    "import matplotlib.pyplot as plt\n",
    "fig, ax = plt.subplots(figsize=(13.5,9))\n",
    "ax = df['Adj Close'].plot(kind='hist')\n",
    "plt.show()"
   ]
  },
  {
   "cell_type": "markdown",
   "metadata": {},
   "source": [
    "### BONUS: Create your own question and answer it."
   ]
  },
  {
   "cell_type": "markdown",
   "metadata": {
    "collapsed": true
   },
   "source": [
    "Add KDE to the plot above"
   ]
  },
  {
   "cell_type": "code",
   "execution_count": 28,
   "metadata": {},
   "outputs": [
    {
     "data": {
      "image/png": "[encoded data removed]",
      "text/plain": [
       "<Figure size 1350x900 with 1 Axes>"
      ]
     },
     "metadata": {},
     "output_type": "display_data"
    }
   ],
   "source": [
    "# %pip install seaborn\n",
    "import seaborn as sns\n",
    "fig, ax = plt.subplots(figsize=(13.5,9))\n",
    "ax = sns.histplot(df['Adj Close'], kde=True)\n",
    "plt.show()"
   ]
  }
 ],
 "metadata": {
  "anaconda-cloud": {},
  "kernelspec": {
   "display_name": "base",
   "language": "python",
   "name": "python3"
  },
  "language_info": {
   "codemirror_mode": {
    "name": "ipython",
    "version": 3
   },
   "file_extension": ".py",
   "mimetype": "text/x-python",
   "name": "python",
   "nbconvert_exporter": "python",
   "pygments_lexer": "ipython3",
   "version": "3.12.7"
  }
 },
 "nbformat": 4,
 "nbformat_minor": 0
}
